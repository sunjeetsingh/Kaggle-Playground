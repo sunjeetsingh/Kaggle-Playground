{
 "cells": [
  {
   "cell_type": "code",
   "execution_count": 2,
   "id": "innocent-staff",
   "metadata": {},
   "outputs": [],
   "source": [
    "import numpy as np\n",
    "import pandas as pd\n",
    "from sklearn.linear_model import LinearRegression\n",
    "from xgboost import XGBRegressor\n",
    "from sklearn.ensemble import RandomForestRegressor"
   ]
  },
  {
   "cell_type": "code",
   "execution_count": 12,
   "id": "compact-franklin",
   "metadata": {},
   "outputs": [],
   "source": [
    "df = pd.read_csv(r'C:\\Users\\HP\\Desktop\\datasets\\Kaggleplayground 2\\train.csv')"
   ]
  },
  {
   "cell_type": "code",
   "execution_count": 108,
   "id": "least-interface",
   "metadata": {},
   "outputs": [
    {
     "data": {
      "text/plain": [
       "(300000, 14)"
      ]
     },
     "execution_count": 108,
     "metadata": {},
     "output_type": "execute_result"
    }
   ],
   "source": [
    "df.head()"
   ]
  },
  {
   "cell_type": "code",
   "execution_count": 13,
   "id": "integrated-chain",
   "metadata": {},
   "outputs": [],
   "source": [
    "df1 = df.copy()\n",
    "df2 = df.copy()"
   ]
  },
  {
   "cell_type": "code",
   "execution_count": 14,
   "id": "periodic-click",
   "metadata": {},
   "outputs": [],
   "source": [
    "df.set_index('id', inplace = True)\n",
    "df.index.name = None\n",
    "target = df['target']\n",
    "df.drop(columns={'target'},inplace = True)"
   ]
  },
  {
   "cell_type": "code",
   "execution_count": 15,
   "id": "boring-disabled",
   "metadata": {},
   "outputs": [
    {
     "data": {
      "text/html": [
       "<div>\n",
       "<style scoped>\n",
       "    .dataframe tbody tr th:only-of-type {\n",
       "        vertical-align: middle;\n",
       "    }\n",
       "\n",
       "    .dataframe tbody tr th {\n",
       "        vertical-align: top;\n",
       "    }\n",
       "\n",
       "    .dataframe thead th {\n",
       "        text-align: right;\n",
       "    }\n",
       "</style>\n",
       "<table border=\"1\" class=\"dataframe\">\n",
       "  <thead>\n",
       "    <tr style=\"text-align: right;\">\n",
       "      <th></th>\n",
       "      <th>cont1</th>\n",
       "      <th>cont2</th>\n",
       "      <th>cont3</th>\n",
       "      <th>cont4</th>\n",
       "      <th>cont5</th>\n",
       "      <th>cont6</th>\n",
       "      <th>cont7</th>\n",
       "      <th>cont8</th>\n",
       "      <th>cont9</th>\n",
       "      <th>cont10</th>\n",
       "      <th>cont11</th>\n",
       "      <th>cont12</th>\n",
       "      <th>cont13</th>\n",
       "      <th>cont14</th>\n",
       "    </tr>\n",
       "  </thead>\n",
       "  <tbody>\n",
       "    <tr>\n",
       "      <th>1</th>\n",
       "      <td>0.670390</td>\n",
       "      <td>0.811300</td>\n",
       "      <td>0.643968</td>\n",
       "      <td>0.291791</td>\n",
       "      <td>0.284117</td>\n",
       "      <td>0.855953</td>\n",
       "      <td>0.890700</td>\n",
       "      <td>0.285542</td>\n",
       "      <td>0.558245</td>\n",
       "      <td>0.779418</td>\n",
       "      <td>0.921832</td>\n",
       "      <td>0.866772</td>\n",
       "      <td>0.878733</td>\n",
       "      <td>0.305411</td>\n",
       "    </tr>\n",
       "    <tr>\n",
       "      <th>3</th>\n",
       "      <td>0.388053</td>\n",
       "      <td>0.621104</td>\n",
       "      <td>0.686102</td>\n",
       "      <td>0.501149</td>\n",
       "      <td>0.643790</td>\n",
       "      <td>0.449805</td>\n",
       "      <td>0.510824</td>\n",
       "      <td>0.580748</td>\n",
       "      <td>0.418335</td>\n",
       "      <td>0.432632</td>\n",
       "      <td>0.439872</td>\n",
       "      <td>0.434971</td>\n",
       "      <td>0.369957</td>\n",
       "      <td>0.369484</td>\n",
       "    </tr>\n",
       "    <tr>\n",
       "      <th>4</th>\n",
       "      <td>0.834950</td>\n",
       "      <td>0.227436</td>\n",
       "      <td>0.301584</td>\n",
       "      <td>0.293408</td>\n",
       "      <td>0.606839</td>\n",
       "      <td>0.829175</td>\n",
       "      <td>0.506143</td>\n",
       "      <td>0.558771</td>\n",
       "      <td>0.587603</td>\n",
       "      <td>0.823312</td>\n",
       "      <td>0.567007</td>\n",
       "      <td>0.677708</td>\n",
       "      <td>0.882938</td>\n",
       "      <td>0.303047</td>\n",
       "    </tr>\n",
       "    <tr>\n",
       "      <th>5</th>\n",
       "      <td>0.820708</td>\n",
       "      <td>0.160155</td>\n",
       "      <td>0.546887</td>\n",
       "      <td>0.726104</td>\n",
       "      <td>0.282444</td>\n",
       "      <td>0.785108</td>\n",
       "      <td>0.752758</td>\n",
       "      <td>0.823267</td>\n",
       "      <td>0.574466</td>\n",
       "      <td>0.580843</td>\n",
       "      <td>0.769594</td>\n",
       "      <td>0.818143</td>\n",
       "      <td>0.914281</td>\n",
       "      <td>0.279528</td>\n",
       "    </tr>\n",
       "    <tr>\n",
       "      <th>8</th>\n",
       "      <td>0.935278</td>\n",
       "      <td>0.421235</td>\n",
       "      <td>0.303801</td>\n",
       "      <td>0.880214</td>\n",
       "      <td>0.665610</td>\n",
       "      <td>0.830131</td>\n",
       "      <td>0.487113</td>\n",
       "      <td>0.604157</td>\n",
       "      <td>0.874658</td>\n",
       "      <td>0.863427</td>\n",
       "      <td>0.983575</td>\n",
       "      <td>0.900464</td>\n",
       "      <td>0.935918</td>\n",
       "      <td>0.435772</td>\n",
       "    </tr>\n",
       "  </tbody>\n",
       "</table>\n",
       "</div>"
      ],
      "text/plain": [
       "      cont1     cont2     cont3     cont4     cont5     cont6     cont7  \\\n",
       "1  0.670390  0.811300  0.643968  0.291791  0.284117  0.855953  0.890700   \n",
       "3  0.388053  0.621104  0.686102  0.501149  0.643790  0.449805  0.510824   \n",
       "4  0.834950  0.227436  0.301584  0.293408  0.606839  0.829175  0.506143   \n",
       "5  0.820708  0.160155  0.546887  0.726104  0.282444  0.785108  0.752758   \n",
       "8  0.935278  0.421235  0.303801  0.880214  0.665610  0.830131  0.487113   \n",
       "\n",
       "      cont8     cont9    cont10    cont11    cont12    cont13    cont14  \n",
       "1  0.285542  0.558245  0.779418  0.921832  0.866772  0.878733  0.305411  \n",
       "3  0.580748  0.418335  0.432632  0.439872  0.434971  0.369957  0.369484  \n",
       "4  0.558771  0.587603  0.823312  0.567007  0.677708  0.882938  0.303047  \n",
       "5  0.823267  0.574466  0.580843  0.769594  0.818143  0.914281  0.279528  \n",
       "8  0.604157  0.874658  0.863427  0.983575  0.900464  0.935918  0.435772  "
      ]
     },
     "execution_count": 15,
     "metadata": {},
     "output_type": "execute_result"
    }
   ],
   "source": [
    "df.head()"
   ]
  },
  {
   "cell_type": "code",
   "execution_count": 9,
   "id": "satisfied-madness",
   "metadata": {},
   "outputs": [
    {
     "data": {
      "text/plain": [
       "cont1     0\n",
       "cont2     0\n",
       "cont3     0\n",
       "cont4     0\n",
       "cont5     0\n",
       "cont6     0\n",
       "cont7     0\n",
       "cont8     0\n",
       "cont9     0\n",
       "cont10    0\n",
       "cont11    0\n",
       "cont12    0\n",
       "cont13    0\n",
       "cont14    0\n",
       "dtype: int64"
      ]
     },
     "execution_count": 9,
     "metadata": {},
     "output_type": "execute_result"
    }
   ],
   "source": [
    "df.isnull().sum()"
   ]
  },
  {
   "cell_type": "code",
   "execution_count": 18,
   "id": "superb-operations",
   "metadata": {},
   "outputs": [
    {
     "data": {
      "text/plain": [
       "id        0.001347\n",
       "cont1    -0.032994\n",
       "cont2     0.067102\n",
       "cont3     0.058936\n",
       "cont4     0.005522\n",
       "cont5    -0.005358\n",
       "cont6     0.027955\n",
       "cont7     0.067234\n",
       "cont8     0.014698\n",
       "cont9    -0.013029\n",
       "cont10   -0.021143\n",
       "cont11    0.050996\n",
       "cont12    0.047809\n",
       "cont13   -0.006642\n",
       "cont14   -0.006609\n",
       "target    1.000000\n",
       "Name: target, dtype: float64"
      ]
     },
     "execution_count": 18,
     "metadata": {},
     "output_type": "execute_result"
    }
   ],
   "source": [
    "df1.corr()['target']"
   ]
  },
  {
   "cell_type": "code",
   "execution_count": 22,
   "id": "initial-woman",
   "metadata": {},
   "outputs": [],
   "source": [
    "from sklearn.model_selection import train_test_split\n",
    "from sklearn.preprocessing import StandardScaler\n",
    "from sklearn.preprocessing import MinMaxScaler"
   ]
  },
  {
   "cell_type": "code",
   "execution_count": 24,
   "id": "premier-colors",
   "metadata": {},
   "outputs": [],
   "source": [
    "xtrain,xtest,ytrain,ytest = train_test_split(df,target,test_size = 0.3, random_state = 1)\n",
    "standard_scaler = StandardScaler()\n",
    "minmax_scaler = MinMaxScaler()"
   ]
  },
  {
   "cell_type": "code",
   "execution_count": 25,
   "id": "smart-range",
   "metadata": {},
   "outputs": [],
   "source": [
    "xtrain_s = standard_scaler.fit_transform(xtrain)\n",
    "xtest_s = standard_scaler.transform(xtest)\n",
    "xtrain_mm = minmax_scaler.fit_transform(xtrain)\n",
    "xtestmm = minmax_scaler.transform(xtest)"
   ]
  },
  {
   "cell_type": "code",
   "execution_count": 28,
   "id": "offshore-connection",
   "metadata": {},
   "outputs": [],
   "source": [
    "target1 = target.copy()\n",
    "target2 = target.copy()\n",
    "target3 = target.copy()\n",
    "target4 = target.copy()"
   ]
  },
  {
   "cell_type": "code",
   "execution_count": 43,
   "id": "honest-simpson",
   "metadata": {},
   "outputs": [],
   "source": [
    "ytrain_s = standard_scaler.fit_transform(ytrain.values.reshape(-1,1))\n",
    "ytest_s = standard_scaler.transform(ytest.values.reshape(-1,1))\n",
    "\n",
    "ytrain_mm = standard_scaler.fit_transform(ytrain.values.reshape(-1,1))\n",
    "ytest_mm = standard_scaler.transform(ytest.values.reshape(-1,1))"
   ]
  },
  {
   "cell_type": "markdown",
   "id": "assumed-manufacturer",
   "metadata": {},
   "source": [
    "## Linear Regression for base comparison"
   ]
  },
  {
   "cell_type": "code",
   "execution_count": 44,
   "id": "confused-meditation",
   "metadata": {},
   "outputs": [],
   "source": [
    "lr1 = LinearRegression()"
   ]
  },
  {
   "cell_type": "code",
   "execution_count": 45,
   "id": "homeless-bikini",
   "metadata": {},
   "outputs": [],
   "source": [
    "lr1.fit(xtrain_s,ytrain_s)\n",
    "yhat_lr1 = lr1.predict(xtest_s)"
   ]
  },
  {
   "cell_type": "code",
   "execution_count": 46,
   "id": "satisfactory-sweden",
   "metadata": {},
   "outputs": [],
   "source": [
    "from sklearn.metrics import r2_score"
   ]
  },
  {
   "cell_type": "code",
   "execution_count": 47,
   "id": "young-peoples",
   "metadata": {},
   "outputs": [],
   "source": [
    "from sklearn.metrics import mean_absolute_error"
   ]
  },
  {
   "cell_type": "code",
   "execution_count": 57,
   "id": "optical-panic",
   "metadata": {},
   "outputs": [
    {
     "name": "stdout",
     "output_type": "stream",
     "text": [
      "0.01827186223521826\n"
     ]
    }
   ],
   "source": [
    "print(r2_score(ytest_s,yhat_lr1))"
   ]
  },
  {
   "cell_type": "code",
   "execution_count": 63,
   "id": "spatial-rhythm",
   "metadata": {},
   "outputs": [
    {
     "name": "stdout",
     "output_type": "stream",
     "text": [
      "7.906651916344003\n"
     ]
    }
   ],
   "source": [
    "print(mean_absolute_error(ytest,yhat_lr1))"
   ]
  },
  {
   "cell_type": "code",
   "execution_count": 51,
   "id": "allied-coral",
   "metadata": {},
   "outputs": [],
   "source": [
    "xtrain = standard_scaler.fit_transform(xtrain)\n",
    "xtest = standard_scaler.transform(xtest)"
   ]
  },
  {
   "cell_type": "code",
   "execution_count": 53,
   "id": "mediterranean-reminder",
   "metadata": {},
   "outputs": [],
   "source": [
    "lr2 = LinearRegression()"
   ]
  },
  {
   "cell_type": "code",
   "execution_count": 54,
   "id": "assured-namibia",
   "metadata": {},
   "outputs": [],
   "source": [
    "lr2.fit(xtrain,ytrain)\n",
    "yhat_lr2 = lr2.predict(xtest)"
   ]
  },
  {
   "cell_type": "code",
   "execution_count": 55,
   "id": "authentic-handbook",
   "metadata": {},
   "outputs": [
    {
     "name": "stdout",
     "output_type": "stream",
     "text": [
      "0.018271862235218483\n"
     ]
    }
   ],
   "source": [
    "print(r2_score(ytest,yhat_lr2)) #scaling the independent variables doesn't affect the r2 score"
   ]
  },
  {
   "cell_type": "markdown",
   "id": "periodic-fossil",
   "metadata": {},
   "source": [
    "## XGB Regressor"
   ]
  },
  {
   "cell_type": "code",
   "execution_count": 58,
   "id": "exempt-professional",
   "metadata": {},
   "outputs": [],
   "source": [
    "xgbr1 = XGBRegressor()"
   ]
  },
  {
   "cell_type": "code",
   "execution_count": 60,
   "id": "coastal-thousand",
   "metadata": {},
   "outputs": [],
   "source": [
    "xgbr1.fit(xtrain,ytrain)\n",
    "yhat_xgbr1 = xgbr1.predict(xtest)"
   ]
  },
  {
   "cell_type": "code",
   "execution_count": 61,
   "id": "scientific-tsunami",
   "metadata": {},
   "outputs": [
    {
     "name": "stdout",
     "output_type": "stream",
     "text": [
      "0.07667406873960225\n"
     ]
    }
   ],
   "source": [
    "print(r2_score(ytest,yhat_xgbr1))"
   ]
  },
  {
   "cell_type": "code",
   "execution_count": 62,
   "id": "confident-conference",
   "metadata": {},
   "outputs": [
    {
     "name": "stdout",
     "output_type": "stream",
     "text": [
      "0.5890093803468027\n"
     ]
    }
   ],
   "source": [
    "print(mean_absolute_error(ytest,yhat_xgbr1))"
   ]
  },
  {
   "cell_type": "code",
   "execution_count": 137,
   "id": "german-operator",
   "metadata": {},
   "outputs": [],
   "source": [
    "## testing model with standardized data"
   ]
  },
  {
   "cell_type": "code",
   "execution_count": 139,
   "id": "eligible-front",
   "metadata": {},
   "outputs": [
    {
     "name": "stdout",
     "output_type": "stream",
     "text": [
      "0.8028628037107177\n"
     ]
    }
   ],
   "source": [
    "xgbr2 = XGBRegressor()\n",
    "xgbr2.fit(xtrain_s,ytrain_s)\n",
    "yhat_xgbr2 = xgbr2.predict(xtest_s)\n",
    "print(mean_absolute_error(ytest_s,yhat_xgbr2))"
   ]
  },
  {
   "cell_type": "code",
   "execution_count": 68,
   "id": "genetic-coupon",
   "metadata": {},
   "outputs": [],
   "source": [
    "import matplotlib.pyplot as plt"
   ]
  },
  {
   "cell_type": "code",
   "execution_count": 111,
   "id": "sized-philip",
   "metadata": {},
   "outputs": [],
   "source": [
    "imp = xgbr1.feature_importances_ #feature importance given by xgboost"
   ]
  },
  {
   "cell_type": "code",
   "execution_count": 120,
   "id": "crude-conclusion",
   "metadata": {},
   "outputs": [
    {
     "data": {
      "text/plain": [
       "<BarContainer object of 14 artists>"
      ]
     },
     "execution_count": 120,
     "metadata": {},
     "output_type": "execute_result"
    },
    {
     "data": {
      "image/png": "[encoded data removed]",
      "text/plain": [
       "<Figure size 720x360 with 1 Axes>"
      ]
     },
     "metadata": {
      "needs_background": "light"
     },
     "output_type": "display_data"
    }
   ],
   "source": [
    "plt.figure(figsize = (10,5))\n",
    "plt.bar(df.columns, height = imp)"
   ]
  },
  {
   "cell_type": "code",
   "execution_count": 79,
   "id": "bizarre-christianity",
   "metadata": {},
   "outputs": [
    {
     "data": {
      "text/plain": [
       "id        0.001347\n",
       "cont1    -0.032994\n",
       "cont2     0.067102\n",
       "cont3     0.058936\n",
       "cont4     0.005522\n",
       "cont5    -0.005358\n",
       "cont6     0.027955\n",
       "cont7     0.067234\n",
       "cont8     0.014698\n",
       "cont9    -0.013029\n",
       "cont10   -0.021143\n",
       "cont11    0.050996\n",
       "cont12    0.047809\n",
       "cont13   -0.006642\n",
       "cont14   -0.006609\n",
       "target    1.000000\n",
       "Name: target, dtype: float64"
      ]
     },
     "execution_count": 79,
     "metadata": {},
     "output_type": "execute_result"
    }
   ],
   "source": [
    "df1.corr(method = 'pearson')['target']"
   ]
  },
  {
   "cell_type": "code",
   "execution_count": 81,
   "id": "loving-sugar",
   "metadata": {},
   "outputs": [],
   "source": [
    "from scipy import stats"
   ]
  },
  {
   "cell_type": "code",
   "execution_count": 109,
   "id": "cathedral-depth",
   "metadata": {},
   "outputs": [
    {
     "name": "stdout",
     "output_type": "stream",
     "text": [
      "id 0.0013472175150167265 0.46057601958572125\n",
      "cont1 -0.03299369853768816 4.90416102128356e-73\n",
      "cont2 0.06710170146632899 2.2661690671771178e-296\n",
      "cont3 0.05893621104572727 5.289526554633656e-229\n",
      "cont4 0.005521566713620659 0.002492115796936273\n",
      "cont5 -0.005357507308154698 0.0033415398916062126\n",
      "cont6 0.027954591472273527 6.137930686379651e-53\n",
      "cont7 0.06723394722080087 1.5555871510246505e-297\n",
      "cont8 0.014698315898562311 8.211993908287938e-16\n",
      "cont9 -0.013028626444752563 9.584477084822728e-13\n",
      "cont10 -0.021142885587589547 5.103499345059516e-31\n",
      "cont11 0.0509959665682284 6.645998729015501e-172\n",
      "cont12 0.047808664884640306 2.6051582149609596e-151\n",
      "cont13 -0.006641642628204178 0.0002749742043894707\n",
      "cont14 -0.006609220044238102 0.0002945536572591356\n",
      "target 0.999999999999996 0.0\n"
     ]
    }
   ],
   "source": [
    "for col in df1:\n",
    "    p_corr,p_value = stats.pearsonr(df1[col],df1['target'])\n",
    "    print(col,p_corr, p_value)"
   ]
  },
  {
   "cell_type": "code",
   "execution_count": null,
   "id": "cooked-wagner",
   "metadata": {},
   "outputs": [],
   "source": [
    "## since p_value of all the independent variables in <0.05, so using sfs to confirm important features"
   ]
  },
  {
   "cell_type": "code",
   "execution_count": 123,
   "id": "cordless-march",
   "metadata": {},
   "outputs": [
    {
     "data": {
      "text/plain": [
       "SequentialFeatureSelector(estimator=LinearRegression(), n_features_to_select=13)"
      ]
     },
     "execution_count": 123,
     "metadata": {},
     "output_type": "execute_result"
    }
   ],
   "source": [
    "lr2 = LinearRegression()\n",
    "from sklearn.feature_selection import SequentialFeatureSelector\n",
    "sfs = SequentialFeatureSelector(lr2,n_features_to_select = 13)\n",
    "sfs.fit(df,target)"
   ]
  },
  {
   "cell_type": "code",
   "execution_count": 127,
   "id": "needed-marathon",
   "metadata": {},
   "outputs": [
    {
     "data": {
      "text/plain": [
       "array([ 0,  1,  2,  3,  4,  5,  6,  7,  8,  9, 10, 11, 12], dtype=int64)"
      ]
     },
     "execution_count": 127,
     "metadata": {},
     "output_type": "execute_result"
    }
   ],
   "source": [
    "sfs.get_support(indices = True)"
   ]
  },
  {
   "cell_type": "markdown",
   "id": "retained-enough",
   "metadata": {},
   "source": [
    "## Lasso Regression"
   ]
  },
  {
   "cell_type": "code",
   "execution_count": 128,
   "id": "weekly-worker",
   "metadata": {},
   "outputs": [],
   "source": [
    "from sklearn.linear_model import Lasso"
   ]
  },
  {
   "cell_type": "code",
   "execution_count": 129,
   "id": "close-surgery",
   "metadata": {},
   "outputs": [],
   "source": [
    "lasso_reg1 = Lasso()"
   ]
  },
  {
   "cell_type": "code",
   "execution_count": 130,
   "id": "polyphonic-checkout",
   "metadata": {},
   "outputs": [],
   "source": [
    "lasso_reg1.fit(xtrain,ytrain)\n",
    "yhat_lasso1 = lasso_reg1.predict(xtest)"
   ]
  },
  {
   "cell_type": "code",
   "execution_count": 131,
   "id": "israeli-federal",
   "metadata": {},
   "outputs": [
    {
     "name": "stdout",
     "output_type": "stream",
     "text": [
      "0.6192268600598944\n"
     ]
    }
   ],
   "source": [
    "print(mean_absolute_error(ytest,yhat_lasso1))"
   ]
  },
  {
   "cell_type": "code",
   "execution_count": 132,
   "id": "first-clerk",
   "metadata": {},
   "outputs": [],
   "source": [
    "lasso_reg2 = Lasso(alpha = 0.3)"
   ]
  },
  {
   "cell_type": "code",
   "execution_count": 133,
   "id": "short-pioneer",
   "metadata": {},
   "outputs": [
    {
     "name": "stdout",
     "output_type": "stream",
     "text": [
      "0.8445878922324795\n"
     ]
    }
   ],
   "source": [
    "lasso_reg2.fit(xtrain_s,ytrain_s)\n",
    "yhat_lasso2 = lasso_reg2.predict(xtest_s)\n",
    "print(mean_absolute_error(ytest_s,yhat_lasso2))"
   ]
  },
  {
   "cell_type": "markdown",
   "id": "pressed-image",
   "metadata": {},
   "source": []
  },
  {
   "cell_type": "code",
   "execution_count": null,
   "id": "three-drain",
   "metadata": {},
   "outputs": [],
   "source": []
  }
 ],
 "metadata": {
  "kernelspec": {
   "display_name": "Python 3",
   "language": "python",
   "name": "python3"
  },
  "language_info": {
   "codemirror_mode": {
    "name": "ipython",
    "version": 3
   },
   "file_extension": ".py",
   "mimetype": "text/x-python",
   "name": "python",
   "nbconvert_exporter": "python",
   "pygments_lexer": "ipython3",
   "version": "3.8.8"
  }
 },
 "nbformat": 4,
 "nbformat_minor": 5
}
